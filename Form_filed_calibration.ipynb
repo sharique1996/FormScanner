{
 "cells": [
  {
   "cell_type": "code",
   "execution_count": 17,
   "metadata": {},
   "outputs": [],
   "source": [
    "import cv2\n",
    "import pickle\n",
    "from constants import IMAGE_HEIGHT,IMAGE_WIDTH,FORM_PATH,PICKLE_PATH"
   ]
  },
  {
   "cell_type": "code",
   "execution_count": 18,
   "metadata": {},
   "outputs": [],
   "source": [
    "img=cv2.imread(FORM_PATH)\n",
    "img=cv2.resize(img,(IMAGE_HEIGHT,IMAGE_WIDTH))"
   ]
  },
  {
   "cell_type": "code",
   "execution_count": 19,
   "metadata": {},
   "outputs": [
    {
     "data": {
      "text/plain": [
       "(800, 650, 3)"
      ]
     },
     "execution_count": 19,
     "metadata": {},
     "output_type": "execute_result"
    }
   ],
   "source": [
    "img.shape"
   ]
  },
  {
   "cell_type": "code",
   "execution_count": 20,
   "metadata": {},
   "outputs": [],
   "source": [
    "cv2.imshow(\"image\",img)\n",
    "cv2.waitKey(0)\n",
    "cv2.destroyAllWindows()"
   ]
  },
  {
   "cell_type": "code",
   "execution_count": 21,
   "metadata": {},
   "outputs": [],
   "source": [
    "##   Step 1: click on the upper left corner of the field\n",
    "##   Step 2: click on the lower right corner of the filed\n",
    "##   Step 3: Enter the name of the field in the text-box/ terminal\n",
    "##   Step 4: Repeat until all the filed are done\n",
    "##   Step 5: Press Q to exit the window\n",
    "\n",
    "\n",
    "points=[]\n",
    "form_fields=[]\n",
    "\n",
    "def process_click(event,x,y,flags,args):\n",
    "    global points,form_fields\n",
    "    if event==cv2.EVENT_LBUTTONDOWN:\n",
    "         points.append((int(x),int(y)))\n",
    "\n",
    "    if len(points)==2:\n",
    "         name=input(\"Enter Filed name: \")\n",
    "         form_fields.append((name,points))\n",
    "         points=[]\n",
    "\n",
    "while True:\n",
    "\n",
    "    cv2.imshow(\"Form\",img)\n",
    "    cv2.setMouseCallback(\"Form\",process_click)\n",
    "\n",
    "    if points:\n",
    "        for point in points:\n",
    "            x,y=point\n",
    "\n",
    "            cv2.circle(img,(x,y),2,(0,0,255),2)\n",
    "\n",
    "    if form_fields:\n",
    "         for form_field in form_fields:\n",
    "              x1,y1=form_field[1][0]\n",
    "              x2,y2=form_field[1][1]\n",
    "\n",
    "              cv2.rectangle(img,(x1,y1),(x2,y2),(0,255,0),2)\n",
    "    \n",
    "    if cv2.waitKey(25) & 0xFF == ord('q'):\n",
    "            break\n",
    "\n",
    "cv2.destroyAllWindows()"
   ]
  },
  {
   "cell_type": "code",
   "execution_count": 22,
   "metadata": {},
   "outputs": [
    {
     "data": {
      "text/plain": [
       "[('regNo', [(500, 142), (614, 196)]),\n",
       " ('name', [(149, 207), (488, 237)]),\n",
       " ('school', [(148, 241), (610, 271)]),\n",
       " ('address', [(150, 277), (610, 304)]),\n",
       " ('city', [(185, 308), (294, 338)]),\n",
       " ('state', [(330, 307), (451, 338)]),\n",
       " ('pin', [(504, 308), (609, 339)]),\n",
       " ('dob_D', [(151, 345), (202, 370)]),\n",
       " ('dob_M', [(223, 345), (274, 370)]),\n",
       " ('dob_Y', [(306, 345), (358, 372)]),\n",
       " ('class', [(426, 343), (497, 371)]),\n",
       " ('section', [(566, 344), (610, 373)]),\n",
       " ('phone', [(149, 374), (320, 403)]),\n",
       " ('whatsapp', [(445, 373), (608, 402)]),\n",
       " ('email', [(150, 405), (610, 433)]),\n",
       " ('box', [(43, 527), (607, 711)])]"
      ]
     },
     "execution_count": 22,
     "metadata": {},
     "output_type": "execute_result"
    }
   ],
   "source": [
    "form_fields"
   ]
  },
  {
   "cell_type": "code",
   "execution_count": 23,
   "metadata": {},
   "outputs": [],
   "source": [
    "file=open(PICKLE_PATH,\"+wb\")\n",
    "pickle.dump(form_fields,file)\n",
    "file.close()"
   ]
  },
  {
   "cell_type": "code",
   "execution_count": null,
   "metadata": {},
   "outputs": [],
   "source": []
  }
 ],
 "metadata": {
  "kernelspec": {
   "display_name": "env",
   "language": "python",
   "name": "python3"
  },
  "language_info": {
   "codemirror_mode": {
    "name": "ipython",
    "version": 3
   },
   "file_extension": ".py",
   "mimetype": "text/x-python",
   "name": "python",
   "nbconvert_exporter": "python",
   "pygments_lexer": "ipython3",
   "version": "3.11.5"
  }
 },
 "nbformat": 4,
 "nbformat_minor": 2
}
